{
 "cells": [
  {
   "cell_type": "markdown",
   "id": "4b90ddf5",
   "metadata": {},
   "source": [
    "# Limpieza de columnas\n",
    "\n",
    "Habrá que transformar las columnas con las que podamos hacer operaciones (\n",
    "\n",
    "- Brand: object, unchanged, ok. USABLE and USED - Precio y cantidad - \n",
    "- Year: integer, modified, ok. USABLE and USED - Precio y cantidad - \n",
    "- Model: object, unchanged, ok. MEH\n",
    "- Car/Suv: object, unchanged, ok. MEH\n",
    "- Title: object, unchanged, ok. MEH\n",
    "- UsedOrNew: object, unchanged, ok. USABLE and USED - Precio y cantidad - \n",
    "- Transmission: object, modified, ok. USABLE and USED - Precio y cantidad -\n",
    "- Engine: transformado a Cylinders, Capacity.\n",
    "- Cylinders: int, modified, USABLE and USED - Consumo combustible - \n",
    "- Capacity: float, modified, USABLE and USED - Consumo combustible - \n",
    "- DriveType: object, unchanged, ok. USABLE and USED - Precio y cantidad - \n",
    "- FuelType: object, modified, ok. USABLE - Precio y cantidad -\n",
    "- FuelConsumption: float, modified, ok. USABLE and USED for Cylinders and Capacity - \n",
    "- Kilometres: integer, modified, ok. USABLE and USED - Precio - \n",
    "- ColourExtInt: object, unchanged, ok. MEH\n",
    "- Location: object, modified, ok. USABLE and USED - Mapa de precio por estado - \n",
    "- CylindersInEngine: deleted.\n",
    "- BodyType: object, unchanged, ok. USABLE and USED - Precio y cantidad -\n",
    "- Doors: int, modified, ok. USABLE\n",
    "- Seats: int, modified, ok. USABLE\n",
    "- Price: int, modified, ok. USABLE"
   ]
  },
  {
   "cell_type": "markdown",
   "id": "75a9c500",
   "metadata": {},
   "source": [
    "Características generales (cualquier cosa que no tenga que ver con el precio):\n",
    " - Fuel consumption según Capacity del motor.\n",
    " - Fuel consumption según Cylinders.\n",
    " - Fuel consumption según BodyType.\n",
    " - Fuel consumption según FuelType.\n",
    " - Doors según BodyType.\n",
    " - Seats según BodyType.\n",
    " \n",
    "Características Australia:\n",
    " - Cantidad por marca\n",
    " - Cantidad por...\n",
    " ...\n",
    " - Marca según estado.\n",
    " - Marca según tipo de coche.\n",
    " - Marca según consumbo combustible. \n",
    " \n",
    "Precio según features:\n"
   ]
  },
  {
   "cell_type": "code",
   "execution_count": 1,
   "id": "b6579fcc",
   "metadata": {},
   "outputs": [
    {
     "data": {
      "text/plain": [
       "16734"
      ]
     },
     "execution_count": 1,
     "metadata": {},
     "output_type": "execute_result"
    }
   ],
   "source": [
    "import pandas as pd\n",
    "\n",
    "# Leemos el archivo CSV:\n",
    "df = pd.read_csv(\"Aus.csv\")\n",
    "\n",
    "df.shape[0]"
   ]
  },
  {
   "cell_type": "code",
   "execution_count": 2,
   "id": "4e13fb33",
   "metadata": {},
   "outputs": [
    {
     "data": {
      "text/html": [
       "<div>\n",
       "<style scoped>\n",
       "    .dataframe tbody tr th:only-of-type {\n",
       "        vertical-align: middle;\n",
       "    }\n",
       "\n",
       "    .dataframe tbody tr th {\n",
       "        vertical-align: top;\n",
       "    }\n",
       "\n",
       "    .dataframe thead th {\n",
       "        text-align: right;\n",
       "    }\n",
       "</style>\n",
       "<table border=\"1\" class=\"dataframe\">\n",
       "  <thead>\n",
       "    <tr style=\"text-align: right;\">\n",
       "      <th></th>\n",
       "      <th>Brand</th>\n",
       "      <th>Year</th>\n",
       "      <th>Model</th>\n",
       "      <th>Car/Suv</th>\n",
       "      <th>Title</th>\n",
       "      <th>UsedOrNew</th>\n",
       "      <th>Transmission</th>\n",
       "      <th>Engine</th>\n",
       "      <th>DriveType</th>\n",
       "      <th>FuelType</th>\n",
       "      <th>FuelConsumption</th>\n",
       "      <th>Kilometres</th>\n",
       "      <th>ColourExtInt</th>\n",
       "      <th>Location</th>\n",
       "      <th>CylindersinEngine</th>\n",
       "      <th>BodyType</th>\n",
       "      <th>Doors</th>\n",
       "      <th>Seats</th>\n",
       "      <th>Price</th>\n",
       "    </tr>\n",
       "  </thead>\n",
       "  <tbody>\n",
       "    <tr>\n",
       "      <th>0</th>\n",
       "      <td>Ssangyong</td>\n",
       "      <td>2022.0</td>\n",
       "      <td>Rexton</td>\n",
       "      <td>Sutherland Isuzu Ute</td>\n",
       "      <td>2022 Ssangyong Rexton Ultimate (awd)</td>\n",
       "      <td>DEMO</td>\n",
       "      <td>Automatic</td>\n",
       "      <td>4 cyl, 2.2 L</td>\n",
       "      <td>AWD</td>\n",
       "      <td>Diesel</td>\n",
       "      <td>8.7 L / 100 km</td>\n",
       "      <td>5595</td>\n",
       "      <td>White / Black</td>\n",
       "      <td>Caringbah, NSW</td>\n",
       "      <td>4 cyl</td>\n",
       "      <td>SUV</td>\n",
       "      <td>4 Doors</td>\n",
       "      <td>7 Seats</td>\n",
       "      <td>51990</td>\n",
       "    </tr>\n",
       "    <tr>\n",
       "      <th>1</th>\n",
       "      <td>MG</td>\n",
       "      <td>2022.0</td>\n",
       "      <td>MG3</td>\n",
       "      <td>Hatchback</td>\n",
       "      <td>2022 MG MG3 Auto Excite (with Navigation)</td>\n",
       "      <td>USED</td>\n",
       "      <td>Automatic</td>\n",
       "      <td>4 cyl, 1.5 L</td>\n",
       "      <td>Front</td>\n",
       "      <td>Premium</td>\n",
       "      <td>6.7 L / 100 km</td>\n",
       "      <td>16</td>\n",
       "      <td>Black / Black</td>\n",
       "      <td>Brookvale, NSW</td>\n",
       "      <td>4 cyl</td>\n",
       "      <td>Hatchback</td>\n",
       "      <td>5 Doors</td>\n",
       "      <td>5 Seats</td>\n",
       "      <td>19990</td>\n",
       "    </tr>\n",
       "    <tr>\n",
       "      <th>2</th>\n",
       "      <td>BMW</td>\n",
       "      <td>2022.0</td>\n",
       "      <td>430I</td>\n",
       "      <td>Coupe</td>\n",
       "      <td>2022 BMW 430I M Sport</td>\n",
       "      <td>USED</td>\n",
       "      <td>Automatic</td>\n",
       "      <td>4 cyl, 2 L</td>\n",
       "      <td>Rear</td>\n",
       "      <td>Premium</td>\n",
       "      <td>6.6 L / 100 km</td>\n",
       "      <td>8472</td>\n",
       "      <td>Grey / White</td>\n",
       "      <td>Sylvania, NSW</td>\n",
       "      <td>4 cyl</td>\n",
       "      <td>Coupe</td>\n",
       "      <td>2 Doors</td>\n",
       "      <td>4 Seats</td>\n",
       "      <td>108988</td>\n",
       "    </tr>\n",
       "    <tr>\n",
       "      <th>3</th>\n",
       "      <td>Mercedes-Benz</td>\n",
       "      <td>2011.0</td>\n",
       "      <td>E500</td>\n",
       "      <td>Coupe</td>\n",
       "      <td>2011 Mercedes-Benz E500 Elegance</td>\n",
       "      <td>USED</td>\n",
       "      <td>Automatic</td>\n",
       "      <td>8 cyl, 5.5 L</td>\n",
       "      <td>Rear</td>\n",
       "      <td>Premium</td>\n",
       "      <td>11 L / 100 km</td>\n",
       "      <td>136517</td>\n",
       "      <td>White / Brown</td>\n",
       "      <td>Mount Druitt, NSW</td>\n",
       "      <td>8 cyl</td>\n",
       "      <td>Coupe</td>\n",
       "      <td>2 Doors</td>\n",
       "      <td>4 Seats</td>\n",
       "      <td>32990</td>\n",
       "    </tr>\n",
       "    <tr>\n",
       "      <th>4</th>\n",
       "      <td>Renault</td>\n",
       "      <td>2022.0</td>\n",
       "      <td>Arkana</td>\n",
       "      <td>SUV</td>\n",
       "      <td>2022 Renault Arkana Intens</td>\n",
       "      <td>USED</td>\n",
       "      <td>Automatic</td>\n",
       "      <td>4 cyl, 1.3 L</td>\n",
       "      <td>Front</td>\n",
       "      <td>Unleaded</td>\n",
       "      <td>6 L / 100 km</td>\n",
       "      <td>1035</td>\n",
       "      <td>Grey / Black</td>\n",
       "      <td>Castle Hill, NSW</td>\n",
       "      <td>4 cyl</td>\n",
       "      <td>SUV</td>\n",
       "      <td>4 Doors</td>\n",
       "      <td>5 Seats</td>\n",
       "      <td>34990</td>\n",
       "    </tr>\n",
       "    <tr>\n",
       "      <th>...</th>\n",
       "      <td>...</td>\n",
       "      <td>...</td>\n",
       "      <td>...</td>\n",
       "      <td>...</td>\n",
       "      <td>...</td>\n",
       "      <td>...</td>\n",
       "      <td>...</td>\n",
       "      <td>...</td>\n",
       "      <td>...</td>\n",
       "      <td>...</td>\n",
       "      <td>...</td>\n",
       "      <td>...</td>\n",
       "      <td>...</td>\n",
       "      <td>...</td>\n",
       "      <td>...</td>\n",
       "      <td>...</td>\n",
       "      <td>...</td>\n",
       "      <td>...</td>\n",
       "      <td>...</td>\n",
       "    </tr>\n",
       "    <tr>\n",
       "      <th>16729</th>\n",
       "      <td>Toyota</td>\n",
       "      <td>2014.0</td>\n",
       "      <td>Alphard</td>\n",
       "      <td>SYC Cars</td>\n",
       "      <td>2014 Toyota Alphard</td>\n",
       "      <td>USED</td>\n",
       "      <td>Automatic</td>\n",
       "      <td>-</td>\n",
       "      <td>Front</td>\n",
       "      <td>Unleaded</td>\n",
       "      <td>-</td>\n",
       "      <td>66000</td>\n",
       "      <td>Grey / -</td>\n",
       "      <td>Rocklea, QLD</td>\n",
       "      <td>-</td>\n",
       "      <td>Commercial</td>\n",
       "      <td>7 Seats</td>\n",
       "      <td>NaN</td>\n",
       "      <td>29500</td>\n",
       "    </tr>\n",
       "    <tr>\n",
       "      <th>16730</th>\n",
       "      <td>Mercedes-Benz</td>\n",
       "      <td>2012.0</td>\n",
       "      <td>S-Class</td>\n",
       "      <td>USED Dealer ad</td>\n",
       "      <td>2012 Mercedes-Benz S-Class CDI BlueTEC</td>\n",
       "      <td>USED</td>\n",
       "      <td>Automatic</td>\n",
       "      <td>-</td>\n",
       "      <td>Rear</td>\n",
       "      <td>Diesel</td>\n",
       "      <td>-</td>\n",
       "      <td>117432</td>\n",
       "      <td>Silver / -</td>\n",
       "      <td>Port Melbourne, VIC</td>\n",
       "      <td>-</td>\n",
       "      <td>NaN</td>\n",
       "      <td>NaN</td>\n",
       "      <td>NaN</td>\n",
       "      <td>39888</td>\n",
       "    </tr>\n",
       "    <tr>\n",
       "      <th>16731</th>\n",
       "      <td>Suzuki</td>\n",
       "      <td>2022.0</td>\n",
       "      <td>Vitara</td>\n",
       "      <td>Bremer Suzuki - New</td>\n",
       "      <td>2022 Suzuki Vitara 1.6L</td>\n",
       "      <td>DEMO</td>\n",
       "      <td>Automatic</td>\n",
       "      <td>4 cyl, 1.6 L</td>\n",
       "      <td>Front</td>\n",
       "      <td>Unleaded</td>\n",
       "      <td>6.2 L / 100 km</td>\n",
       "      <td>5165</td>\n",
       "      <td>Yellow / -</td>\n",
       "      <td>Dinmore, QLD</td>\n",
       "      <td>4 cyl</td>\n",
       "      <td>SUV</td>\n",
       "      <td>4 Doors</td>\n",
       "      <td>5 Seats</td>\n",
       "      <td>35280</td>\n",
       "    </tr>\n",
       "    <tr>\n",
       "      <th>16732</th>\n",
       "      <td>Mercedes-Benz</td>\n",
       "      <td>2016.0</td>\n",
       "      <td>GLC250</td>\n",
       "      <td>SUV</td>\n",
       "      <td>2016 Mercedes-Benz GLC250</td>\n",
       "      <td>USED</td>\n",
       "      <td>Automatic</td>\n",
       "      <td>4 cyl, 2 L</td>\n",
       "      <td>AWD</td>\n",
       "      <td>Premium</td>\n",
       "      <td>7.2 L / 100 km</td>\n",
       "      <td>85525</td>\n",
       "      <td>Grey / Black</td>\n",
       "      <td>Albion, QLD</td>\n",
       "      <td>4 cyl</td>\n",
       "      <td>SUV</td>\n",
       "      <td>4 Doors</td>\n",
       "      <td>5 Seats</td>\n",
       "      <td>41888</td>\n",
       "    </tr>\n",
       "    <tr>\n",
       "      <th>16733</th>\n",
       "      <td>Mercedes-Benz</td>\n",
       "      <td>2021.0</td>\n",
       "      <td>C200</td>\n",
       "      <td>Sedan</td>\n",
       "      <td>2021 Mercedes-Benz C200</td>\n",
       "      <td>USED</td>\n",
       "      <td>Automatic</td>\n",
       "      <td>4 cyl, 2 L</td>\n",
       "      <td>Rear</td>\n",
       "      <td>Unleaded</td>\n",
       "      <td>7 L / 100 km</td>\n",
       "      <td>31852</td>\n",
       "      <td>Gold / -</td>\n",
       "      <td>Yatala, QLD</td>\n",
       "      <td>4 cyl</td>\n",
       "      <td>Sedan</td>\n",
       "      <td>4 Doors</td>\n",
       "      <td>5 Seats</td>\n",
       "      <td>65888</td>\n",
       "    </tr>\n",
       "  </tbody>\n",
       "</table>\n",
       "<p>16734 rows × 19 columns</p>\n",
       "</div>"
      ],
      "text/plain": [
       "               Brand    Year    Model               Car/Suv  \\\n",
       "0          Ssangyong  2022.0   Rexton  Sutherland Isuzu Ute   \n",
       "1                 MG  2022.0      MG3             Hatchback   \n",
       "2                BMW  2022.0     430I                 Coupe   \n",
       "3      Mercedes-Benz  2011.0     E500                 Coupe   \n",
       "4            Renault  2022.0   Arkana                   SUV   \n",
       "...              ...     ...      ...                   ...   \n",
       "16729         Toyota  2014.0  Alphard              SYC Cars   \n",
       "16730  Mercedes-Benz  2012.0  S-Class        USED Dealer ad   \n",
       "16731         Suzuki  2022.0   Vitara   Bremer Suzuki - New   \n",
       "16732  Mercedes-Benz  2016.0   GLC250                   SUV   \n",
       "16733  Mercedes-Benz  2021.0     C200                 Sedan   \n",
       "\n",
       "                                           Title UsedOrNew Transmission  \\\n",
       "0           2022 Ssangyong Rexton Ultimate (awd)      DEMO    Automatic   \n",
       "1      2022 MG MG3 Auto Excite (with Navigation)      USED    Automatic   \n",
       "2                          2022 BMW 430I M Sport      USED    Automatic   \n",
       "3               2011 Mercedes-Benz E500 Elegance      USED    Automatic   \n",
       "4                     2022 Renault Arkana Intens      USED    Automatic   \n",
       "...                                          ...       ...          ...   \n",
       "16729                        2014 Toyota Alphard      USED    Automatic   \n",
       "16730     2012 Mercedes-Benz S-Class CDI BlueTEC      USED    Automatic   \n",
       "16731                    2022 Suzuki Vitara 1.6L      DEMO    Automatic   \n",
       "16732                  2016 Mercedes-Benz GLC250      USED    Automatic   \n",
       "16733                    2021 Mercedes-Benz C200      USED    Automatic   \n",
       "\n",
       "             Engine DriveType  FuelType FuelConsumption Kilometres  \\\n",
       "0      4 cyl, 2.2 L       AWD    Diesel  8.7 L / 100 km       5595   \n",
       "1      4 cyl, 1.5 L     Front   Premium  6.7 L / 100 km         16   \n",
       "2        4 cyl, 2 L      Rear   Premium  6.6 L / 100 km       8472   \n",
       "3      8 cyl, 5.5 L      Rear   Premium   11 L / 100 km     136517   \n",
       "4      4 cyl, 1.3 L     Front  Unleaded    6 L / 100 km       1035   \n",
       "...             ...       ...       ...             ...        ...   \n",
       "16729             -     Front  Unleaded               -      66000   \n",
       "16730             -      Rear    Diesel               -     117432   \n",
       "16731  4 cyl, 1.6 L     Front  Unleaded  6.2 L / 100 km       5165   \n",
       "16732    4 cyl, 2 L       AWD   Premium  7.2 L / 100 km      85525   \n",
       "16733    4 cyl, 2 L      Rear  Unleaded    7 L / 100 km      31852   \n",
       "\n",
       "        ColourExtInt             Location CylindersinEngine    BodyType  \\\n",
       "0      White / Black       Caringbah, NSW             4 cyl         SUV   \n",
       "1      Black / Black       Brookvale, NSW             4 cyl   Hatchback   \n",
       "2       Grey / White        Sylvania, NSW             4 cyl       Coupe   \n",
       "3      White / Brown    Mount Druitt, NSW             8 cyl       Coupe   \n",
       "4       Grey / Black     Castle Hill, NSW             4 cyl         SUV   \n",
       "...              ...                  ...               ...         ...   \n",
       "16729       Grey / -         Rocklea, QLD                 -  Commercial   \n",
       "16730     Silver / -  Port Melbourne, VIC                 -         NaN   \n",
       "16731     Yellow / -         Dinmore, QLD             4 cyl         SUV   \n",
       "16732   Grey / Black          Albion, QLD             4 cyl         SUV   \n",
       "16733       Gold / -          Yatala, QLD             4 cyl       Sedan   \n",
       "\n",
       "          Doors     Seats   Price  \n",
       "0       4 Doors   7 Seats   51990  \n",
       "1       5 Doors   5 Seats   19990  \n",
       "2       2 Doors   4 Seats  108988  \n",
       "3       2 Doors   4 Seats   32990  \n",
       "4       4 Doors   5 Seats   34990  \n",
       "...         ...       ...     ...  \n",
       "16729   7 Seats       NaN   29500  \n",
       "16730       NaN       NaN   39888  \n",
       "16731   4 Doors   5 Seats   35280  \n",
       "16732   4 Doors   5 Seats   41888  \n",
       "16733   4 Doors   5 Seats   65888  \n",
       "\n",
       "[16734 rows x 19 columns]"
      ]
     },
     "execution_count": 2,
     "metadata": {},
     "output_type": "execute_result"
    }
   ],
   "source": [
    "df"
   ]
  },
  {
   "cell_type": "code",
   "execution_count": 3,
   "id": "fe846b05",
   "metadata": {},
   "outputs": [
    {
     "data": {
      "text/plain": [
       "14586"
      ]
     },
     "execution_count": 3,
     "metadata": {},
     "output_type": "execute_result"
    }
   ],
   "source": [
    "# Eliminamos los valores NA del dataframe:\n",
    "df = df.dropna()\n",
    "df.shape[0]"
   ]
  },
  {
   "cell_type": "markdown",
   "id": "3e7f9b10",
   "metadata": {},
   "source": [
    "Cambiamos el tipo de datos de algunas columnas y limpiamos las columnas que tengan valores erróneos o incompletos."
   ]
  },
  {
   "cell_type": "code",
   "execution_count": 4,
   "id": "07294301",
   "metadata": {},
   "outputs": [
    {
     "name": "stderr",
     "output_type": "stream",
     "text": [
      "C:\\Users\\User\\AppData\\Local\\Temp\\ipykernel_81184\\1515359856.py:3: SettingWithCopyWarning: \n",
      "A value is trying to be set on a copy of a slice from a DataFrame.\n",
      "Try using .loc[row_indexer,col_indexer] = value instead\n",
      "\n",
      "See the caveats in the documentation: https://pandas.pydata.org/pandas-docs/stable/user_guide/indexing.html#returning-a-view-versus-a-copy\n",
      "  df[\"Year\"] = df[\"Year\"].astype(int)\n"
     ]
    }
   ],
   "source": [
    "# Year:\n",
    "# Transformamos a integer:\n",
    "df[\"Year\"] = df[\"Year\"].astype(int)"
   ]
  },
  {
   "cell_type": "code",
   "execution_count": 5,
   "id": "f2d6108a",
   "metadata": {},
   "outputs": [
    {
     "data": {
      "text/plain": [
       "14554"
      ]
     },
     "execution_count": 5,
     "metadata": {},
     "output_type": "execute_result"
    }
   ],
   "source": [
    "# Transmission:\n",
    "# Eliminamos los valores \"-\":\n",
    "df = df.loc[df['Transmission'] != '-']\n",
    "df.shape[0]"
   ]
  },
  {
   "cell_type": "code",
   "execution_count": 6,
   "id": "3817e7b8",
   "metadata": {},
   "outputs": [],
   "source": [
    "# Dividimos la columna \"Engine\" en dos columnas, \"Cylinders\" y \"Capacity\":\n",
    "df[[\"Cylinders\", \"Capacity(Liters)\"]] = df[\"Engine\"].str.split(\", \", expand=True, n=1)\n",
    "# Eliminamos la columna \"Engine\":\n",
    "df = df.drop(columns=[\"Engine\"])\n",
    "# También tenemos duplicada ahora la columna CylindersinEngine:\n",
    "df = df.drop(columns=[\"CylindersinEngine\"])\n",
    "# Transformamos la columna Cylinders a integer:\n",
    "df[\"Cylinders\"] = df[\"Cylinders\"].str.split(\" \", expand=True, n=1)[0].astype(int)\n",
    "# Transformamos la columna Capacity a float:\n",
    "df[\"Capacity(Liters)\"] = df[\"Capacity(Liters)\"].str.split(\" \", expand=True, n=1)[0].astype(float)"
   ]
  },
  {
   "cell_type": "code",
   "execution_count": 7,
   "id": "c50fba0b",
   "metadata": {
    "scrolled": false
   },
   "outputs": [
    {
     "data": {
      "text/plain": [
       "14392"
      ]
     },
     "execution_count": 7,
     "metadata": {},
     "output_type": "execute_result"
    }
   ],
   "source": [
    "# FuelType:\n",
    "# Eliminamos los valores \"-\":\n",
    "df = df.loc[df['FuelType'] != '-']\n",
    "df.shape[0]"
   ]
  },
  {
   "cell_type": "code",
   "execution_count": 8,
   "id": "7d55742a",
   "metadata": {},
   "outputs": [
    {
     "data": {
      "text/plain": [
       "14392"
      ]
     },
     "execution_count": 8,
     "metadata": {},
     "output_type": "execute_result"
    }
   ],
   "source": [
    "# FuelConsumption:\n",
    "# Eliminamos los valores \"-\":\n",
    "df = df.loc[df['FuelConsumption'] != '-']\n",
    "# Transformamos a float:\n",
    "df[\"FuelConsumption\"] = df[\"FuelConsumption\"].str.split(\" \", expand=True, n=1)[0].astype(float)\n",
    "df.shape[0]"
   ]
  },
  {
   "cell_type": "code",
   "execution_count": 9,
   "id": "65e7c2e3",
   "metadata": {},
   "outputs": [
    {
     "data": {
      "text/plain": [
       "14308"
      ]
     },
     "execution_count": 9,
     "metadata": {},
     "output_type": "execute_result"
    }
   ],
   "source": [
    "# Kilometres:\n",
    "# Eliminamos los valores \"-\":\n",
    "df = df.loc[df['Kilometres'] != '-']\n",
    "# Transformamos a integer:\n",
    "df[\"Kilometres\"] = df[\"Kilometres\"].astype(int)\n",
    "df.shape[0]"
   ]
  },
  {
   "cell_type": "code",
   "execution_count": 10,
   "id": "36cdc1f8",
   "metadata": {},
   "outputs": [],
   "source": [
    "# Location:\n",
    "# Vamos a separarlo por estados:\n",
    "df[\"Location\"] = df[\"Location\"].str.split(\", \", expand=True, n=1)[1]"
   ]
  },
  {
   "cell_type": "code",
   "execution_count": 11,
   "id": "502cc4e5",
   "metadata": {},
   "outputs": [],
   "source": [
    "# Transformamos la columna \"Doors\" a integer:\n",
    "df[\"Doors\"] = df[\"Doors\"].str.split(\" \", expand=True, n=2)[1].astype(int)\n",
    "# Transformamos la columna \"Seats\" a integer:\n",
    "df[\"Seats\"] = df[\"Seats\"].str.split(\" \", expand=True, n=2)[1].astype(int)"
   ]
  },
  {
   "cell_type": "code",
   "execution_count": 12,
   "id": "cb2bcd6e",
   "metadata": {},
   "outputs": [
    {
     "data": {
      "text/plain": [
       "14283"
      ]
     },
     "execution_count": 12,
     "metadata": {},
     "output_type": "execute_result"
    }
   ],
   "source": [
    "# Convertimos la columna \"Price\" a tipo float, ignorando los valores no numéricos:\n",
    "df['Price'] = pd.to_numeric(df['Price'], errors='coerce')\n",
    "\n",
    "# Eliminamos las filas con NaN en la columna \"Price\":\n",
    "df = df.dropna(subset=['Price'])\n",
    "\n",
    "# Convertimos la columna \"Price\" a tipo entero:\n",
    "df['Price'] = df['Price'].astype(int)\n",
    "df.shape[0]"
   ]
  },
  {
   "cell_type": "code",
   "execution_count": 13,
   "id": "3c6f4b8d",
   "metadata": {},
   "outputs": [
    {
     "data": {
      "text/plain": [
       "array(['NSW', 'VIC', 'QLD', 'SA', 'WA', 'ACT', 'AU-VIC', 'TAS', 'NT'],\n",
       "      dtype=object)"
      ]
     },
     "execution_count": 13,
     "metadata": {},
     "output_type": "execute_result"
    }
   ],
   "source": [
    "df[\"Location\"].unique()"
   ]
  },
  {
   "cell_type": "code",
   "execution_count": 14,
   "id": "db8ed69f",
   "metadata": {},
   "outputs": [],
   "source": [
    "# Nombres completos de los estados de Australia para la visualización en mapa:\n",
    "df.loc[df['Location'] == 'NSW', 'Location'] = 'New South Wales'\n",
    "df.loc[df['Location'] == 'VIC', 'Location'] = 'Victoria'\n",
    "df.loc[df['Location'] == 'QLD', 'Location'] = 'Queensland'\n",
    "df.loc[df['Location'] == 'SA', 'Location'] = 'South Australia'\n",
    "df.loc[df['Location'] == 'WA', 'Location'] = 'Western Australia'\n",
    "df.loc[df['Location'] == 'ACT', 'Location'] = 'Australian Capital Territory'\n",
    "df.loc[df['Location'] == 'AU-VIC', 'Location'] = 'Victoria'\n",
    "df.loc[df['Location'] == 'TAS', 'Location'] = 'Tasmania'\n",
    "df.loc[df['Location'] == 'NT', 'Location'] = 'Northern Territory'\n",
    "\n",
    "df = df.rename(columns={'Location': 'State'})\n",
    "df['Country'] = 'Australia'"
   ]
  },
  {
   "cell_type": "code",
   "execution_count": 15,
   "id": "234207b5",
   "metadata": {},
   "outputs": [
    {
     "data": {
      "text/plain": [
       "Brand                object\n",
       "Year                  int32\n",
       "Model                object\n",
       "Car/Suv              object\n",
       "Title                object\n",
       "UsedOrNew            object\n",
       "Transmission         object\n",
       "DriveType            object\n",
       "FuelType             object\n",
       "FuelConsumption     float64\n",
       "Kilometres            int32\n",
       "ColourExtInt         object\n",
       "State                object\n",
       "BodyType             object\n",
       "Doors                 int32\n",
       "Seats                 int32\n",
       "Price                 int32\n",
       "Cylinders             int32\n",
       "Capacity(Liters)    float64\n",
       "Country              object\n",
       "dtype: object"
      ]
     },
     "execution_count": 15,
     "metadata": {},
     "output_type": "execute_result"
    }
   ],
   "source": [
    "df.dtypes"
   ]
  },
  {
   "cell_type": "code",
   "execution_count": 16,
   "id": "4590c39d",
   "metadata": {},
   "outputs": [
    {
     "data": {
      "text/plain": [
       "array(['Diesel', 'Premium', 'Unleaded', 'Hybrid', 'Electric', 'LPG',\n",
       "       'Leaded'], dtype=object)"
      ]
     },
     "execution_count": 16,
     "metadata": {},
     "output_type": "execute_result"
    }
   ],
   "source": [
    "df[\"FuelType\"].unique()"
   ]
  },
  {
   "cell_type": "code",
   "execution_count": 17,
   "id": "cbb079e4",
   "metadata": {},
   "outputs": [],
   "source": [
    "df.to_csv(\"AusClean.csv\", index=False)"
   ]
  }
 ],
 "metadata": {
  "kernelspec": {
   "display_name": "Python 3 (ipykernel)",
   "language": "python",
   "name": "python3"
  },
  "language_info": {
   "codemirror_mode": {
    "name": "ipython",
    "version": 3
   },
   "file_extension": ".py",
   "mimetype": "text/x-python",
   "name": "python",
   "nbconvert_exporter": "python",
   "pygments_lexer": "ipython3",
   "version": "3.11.5"
  }
 },
 "nbformat": 4,
 "nbformat_minor": 5
}
